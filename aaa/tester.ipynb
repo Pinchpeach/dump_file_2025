{
 "cells": [
  {
   "cell_type": "code",
   "execution_count": 2,
   "metadata": {},
   "outputs": [],
   "source": [
    "import numpy as np\n",
    "import matplotlib.pyplot as plt\n",
    "import pandas as pd"
   ]
  },
  {
   "cell_type": "code",
   "execution_count": 9,
   "metadata": {},
   "outputs": [],
   "source": [
    "data1 = pd.read_csv('tt.csv')"
   ]
  },
  {
   "cell_type": "code",
   "execution_count": 14,
   "metadata": {},
   "outputs": [
    {
     "name": "stdout",
     "output_type": "stream",
     "text": [
      "               date  value   data_date\n",
      "0     2025-01-01 00   35.5  2025-03-20\n",
      "1     2025-01-01 01   31.1  2025-03-20\n",
      "2     2025-01-01 02   16.8  2025-03-20\n",
      "3     2025-01-01 03    7.2  2025-03-20\n",
      "4     2025-01-01 04    7.0  2025-03-20\n",
      "...             ...    ...         ...\n",
      "1411  2025-02-28 19   63.2  2025-03-20\n",
      "1412  2025-02-28 20   38.5  2025-03-20\n",
      "1413  2025-02-28 21   32.5  2025-03-20\n",
      "1414  2025-02-28 22   32.4  2025-03-20\n",
      "1415  2025-02-28 23   41.2  2025-03-20\n",
      "\n",
      "[1416 rows x 3 columns]\n",
      "<class 'pandas.core.frame.DataFrame'>\n"
     ]
    }
   ],
   "source": [
    "print(data1)\n",
    "print(type(data1))"
   ]
  },
  {
   "cell_type": "code",
   "execution_count": 32,
   "metadata": {},
   "outputs": [],
   "source": [
    "df = pd.DataFrame(data1)\n",
    "\n",
    "arr_data = df.loc[:,['value']]"
   ]
  },
  {
   "cell_type": "code",
   "execution_count": null,
   "metadata": {},
   "outputs": [
    {
     "name": "stdout",
     "output_type": "stream",
     "text": [
      "      value\n",
      "0      35.5\n",
      "1      31.1\n",
      "2      16.8\n",
      "3       7.2\n",
      "4       7.0\n",
      "...     ...\n",
      "1411   63.2\n",
      "1412   38.5\n",
      "1413   32.5\n",
      "1414   32.4\n",
      "1415   41.2\n",
      "\n",
      "[1416 rows x 1 columns]\n"
     ]
    }
   ],
   "source": [
    "print(arr_data)"
   ]
  },
  {
   "cell_type": "code",
   "execution_count": 65,
   "metadata": {},
   "outputs": [
    {
     "name": "stderr",
     "output_type": "stream",
     "text": [
      "c:\\Python313\\Lib\\site-packages\\numpy\\_core\\fromnumeric.py:4062: FutureWarning: The behavior of DataFrame.std with axis=None is deprecated, in a future version this will reduce over both axes and return a scalar. To retain the old behavior, pass axis=0 (or do not pass axis)\n",
      "  return std(axis=axis, dtype=dtype, out=out, ddof=ddof, **kwargs)\n"
     ]
    }
   ],
   "source": [
    "def LogNorm_distribution(mean, std, x):\n",
    "    return (1/(x * std * np.sqrt(2*np.pi))) * np.exp(-0.5 * ((np.log(x) - mean) / std)**2)\n",
    "\n",
    "tmp = np.log(arr_data)\n",
    "mean = np.mean(tmp)\n",
    "std = np.std(tmp)\n",
    "\n",
    "cmp_data = np.random.lognormal(mean, std, size=10000)\n"
   ]
  },
  {
   "cell_type": "code",
   "execution_count": 76,
   "metadata": {},
   "outputs": [
    {
     "name": "stderr",
     "output_type": "stream",
     "text": [
      "C:\\Users\\AGN\\AppData\\Local\\Temp\\ipykernel_19984\\4026639264.py:5: UserWarning: No artists with labels found to put in legend.  Note that artists whose label start with an underscore are ignored when legend() is called with no argument.\n",
      "  plt.legend()\n"
     ]
    },
    {
     "data": {
      "text/plain": [
       "<matplotlib.legend.Legend at 0x2125af491d0>"
      ]
     },
     "execution_count": 76,
     "metadata": {},
     "output_type": "execute_result"
    },
    {
     "data": {
      "image/png": "[encoded data removed]",
      "text/plain": [
       "<Figure size 640x480 with 1 Axes>"
      ]
     },
     "metadata": {},
     "output_type": "display_data"
    }
   ],
   "source": [
    "plt.figure()\n",
    "plt.xlim((-10, 300))\n",
    "val_hist1, bins1, _ = plt.hist(cmp_data, bins=100, density=True, color='red', alpha=0.5)\n",
    "val_hist2, bins2, _ = plt.hist(arr_data, bins=100, density=True, edgecolor='black', alpha=0.5)\n",
    "plt.legend()"
   ]
  },
  {
   "cell_type": "code",
   "execution_count": 74,
   "metadata": {},
   "outputs": [
    {
     "name": "stdout",
     "output_type": "stream",
     "text": [
      "4.043553001613871e-05\n"
     ]
    }
   ],
   "source": [
    "#MSE \n",
    "mse = np.mean((val_hist1 - val_hist2)**2)\n",
    "\n",
    "print(mse)\n"
   ]
  }
 ],
 "metadata": {
  "kernelspec": {
   "display_name": "Python 3",
   "language": "python",
   "name": "python3"
  },
  "language_info": {
   "codemirror_mode": {
    "name": "ipython",
    "version": 3
   },
   "file_extension": ".py",
   "mimetype": "text/x-python",
   "name": "python",
   "nbconvert_exporter": "python",
   "pygments_lexer": "ipython3",
   "version": "3.13.2"
  }
 },
 "nbformat": 4,
 "nbformat_minor": 2
}
