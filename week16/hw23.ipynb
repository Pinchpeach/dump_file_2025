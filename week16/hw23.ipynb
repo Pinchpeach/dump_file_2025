{
 "cells": [
  {
   "cell_type": "markdown",
   "id": "62615b71",
   "metadata": {},
   "source": [
    "<img src=\"HW23-1.png\" width=\"1000\" height=\"700\">"
   ]
  },
  {
   "cell_type": "code",
   "execution_count": 2,
   "id": "ed4ef732",
   "metadata": {},
   "outputs": [],
   "source": [
    "import numpy as np\n",
    "import matplotlib.pyplot as plt\n",
    "from scipy.integrate import romb"
   ]
  },
  {
   "cell_type": "code",
   "execution_count": 9,
   "id": "2c5dd826",
   "metadata": {},
   "outputs": [],
   "source": [
    "def NFW(r, rho0 = 1.5, rs = 10):\n",
    "    return rho0 / ((r / rs) * (1 + r/rs)**2)\n",
    "\n",
    "def trapezoidal_rule(f, start, end, h=1):\n",
    "    N = int((end - start) / h)\n",
    "    integral = 0.5 * (f(start) + f(end))\n",
    "    for i in range(1, N):\n",
    "        integral += f(start + i * h)\n",
    "    integral *= h\n",
    "        \n",
    "    return integral\n",
    "        "
   ]
  },
  {
   "cell_type": "code",
   "execution_count": 23,
   "id": "a50dffbf",
   "metadata": {},
   "outputs": [
    {
     "name": "stdout",
     "output_type": "stream",
     "text": [
      "(1025,)\n"
     ]
    }
   ],
   "source": [
    "res = NFW(np.linspace(0.1, 100, 2**10 + 1))\n",
    "print(res.shape)"
   ]
  },
  {
   "cell_type": "code",
   "execution_count": 29,
   "id": "49c856f7",
   "metadata": {},
   "outputs": [
    {
     "name": "stdout",
     "output_type": "stream",
     "text": [
      "Trapezoidal Rule Result: [740.3769807951568, 306.4526803200159, 166.693351592591, 101.08924571318812, 71.99370720183936, 55.46717603650025]\n",
      "Romberg Integration Result: 55.77062897021258\n"
     ]
    }
   ],
   "source": [
    "result_trape = []\n",
    "ind = [10, 4, 2, 1, 0.5, 0.1]\n",
    "for i in ind:\n",
    "    result_trape.append(trapezoidal_rule(NFW, 0.1, 100, i))\n",
    "print(\"Trapezoidal Rule Result:\", result_trape)\n",
    "result_romb = romb(res, dx=0.1)\n",
    "print(\"Romberg Integration Result:\", result_romb)"
   ]
  }
 ],
 "metadata": {
  "kernelspec": {
   "display_name": "Python 3",
   "language": "python",
   "name": "python3"
  },
  "language_info": {
   "codemirror_mode": {
    "name": "ipython",
    "version": 3
   },
   "file_extension": ".py",
   "mimetype": "text/x-python",
   "name": "python",
   "nbconvert_exporter": "python",
   "pygments_lexer": "ipython3",
   "version": "3.13.2"
  }
 },
 "nbformat": 4,
 "nbformat_minor": 5
}
