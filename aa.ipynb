{
 "cells": [
  {
   "cell_type": "code",
   "execution_count": 1,
   "id": "9cdb47d9",
   "metadata": {},
   "outputs": [],
   "source": [
    "import numpy as np"
   ]
  },
  {
   "cell_type": "code",
   "execution_count": 2,
   "id": "ca2780d2",
   "metadata": {},
   "outputs": [],
   "source": [
    "def conv_G_V(Gmag, bp_rp):\n",
    "    V = Gmag + 0.02704 - 0.01424*bp_rp + 0.2156*bp_rp**2 - 0.01426 * bp_rp**3\n",
    "    return V"
   ]
  },
  {
   "cell_type": "code",
   "execution_count": 3,
   "id": "4b30b79c",
   "metadata": {},
   "outputs": [],
   "source": [
    "mag = [20.814945, 20.884867, 20.899452, 20.86305, 20.56037]\n",
    "bp_rp = [0.4262104, -0.14764023, 1.0117493, 1.0288143, 0.78118134]"
   ]
  },
  {
   "cell_type": "code",
   "execution_count": 4,
   "id": "05bf56e2",
   "metadata": {},
   "outputs": [
    {
     "name": "stdout",
     "output_type": "stream",
     "text": [
      "[20.87397659027454, 20.918754859172477, 21.11801218706352, 21.0881148798298, 20.701056740509014]\n"
     ]
    }
   ],
   "source": [
    "result = []\n",
    "for _ in range(5):\n",
    "    result.append(conv_G_V(mag[_], bp_rp[_]))\n",
    "    \n",
    "print(result)"
   ]
  },
  {
   "cell_type": "code",
   "execution_count": null,
   "id": "fbe3ca2b",
   "metadata": {},
   "outputs": [],
   "source": []
  }
 ],
 "metadata": {
  "kernelspec": {
   "display_name": "Python 3",
   "language": "python",
   "name": "python3"
  },
  "language_info": {
   "codemirror_mode": {
    "name": "ipython",
    "version": 3
   },
   "file_extension": ".py",
   "mimetype": "text/x-python",
   "name": "python",
   "nbconvert_exporter": "python",
   "pygments_lexer": "ipython3",
   "version": "3.13.2"
  }
 },
 "nbformat": 4,
 "nbformat_minor": 5
}
