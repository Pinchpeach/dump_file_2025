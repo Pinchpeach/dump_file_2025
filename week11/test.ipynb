{
 "cells": [
  {
   "cell_type": "code",
   "execution_count": 1,
   "id": "e0f27efb",
   "metadata": {},
   "outputs": [],
   "source": [
    "import numpy as np"
   ]
  },
  {
   "cell_type": "code",
   "execution_count": 2,
   "id": "e8094ac9",
   "metadata": {},
   "outputs": [
    {
     "name": "stdout",
     "output_type": "stream",
     "text": [
      "[[1. 1. 1. 1. 1. 1. 1. 1. 1. 1.]\n",
      " [1. 1. 1. 1. 1. 1. 1. 1. 1. 1.]\n",
      " [1. 1. 1. 1. 1. 1. 1. 1. 1. 1.]\n",
      " [1. 1. 1. 1. 1. 1. 1. 1. 1. 1.]\n",
      " [1. 1. 1. 1. 1. 1. 1. 1. 1. 1.]\n",
      " [1. 1. 1. 1. 1. 1. 1. 1. 1. 1.]\n",
      " [1. 1. 1. 1. 1. 1. 1. 1. 1. 1.]\n",
      " [1. 1. 1. 1. 1. 1. 1. 1. 1. 1.]\n",
      " [1. 1. 1. 1. 1. 1. 1. 1. 1. 1.]\n",
      " [1. 1. 1. 1. 1. 1. 1. 1. 1. 1.]]\n"
     ]
    }
   ],
   "source": [
    "arr = np.ones((10, 10))\n",
    "print(arr)"
   ]
  },
  {
   "cell_type": "code",
   "execution_count": 7,
   "id": "db28108e",
   "metadata": {},
   "outputs": [
    {
     "name": "stdout",
     "output_type": "stream",
     "text": [
      "[[ 0  0  0  0  0  0  0  0  0  0]\n",
      " [ 0  1  2  3  4  5  6  7  8  9]\n",
      " [ 0  2  4  6  8 10 12 14 16 18]\n",
      " [ 0  3  6  9 12 15 18 21 24 27]\n",
      " [ 0  4  8 12 16 20 24 28 32 36]\n",
      " [ 0  5 10 15 20 25 30 35 40 45]\n",
      " [ 0  6 12 18 24 30 36 42 48 54]\n",
      " [ 0  7 14 21 28 35 42 49 56 63]\n",
      " [ 0  8 16 24 32 40 48 56 64 72]\n",
      " [ 0  9 18 27 36 45 54 63 72 81]]\n"
     ]
    }
   ],
   "source": [
    "result = np.fromfunction(lambda i, j: i * j, arr.shape, dtype=int)\n",
    "print(result)"
   ]
  },
  {
   "cell_type": "code",
   "execution_count": 2,
   "id": "53f3b193",
   "metadata": {},
   "outputs": [],
   "source": [
    "import wave"
   ]
  },
  {
   "cell_type": "code",
   "execution_count": 9,
   "id": "e5e4be95",
   "metadata": {},
   "outputs": [],
   "source": [
    "# Open the WAV file\n",
    "with wave.open('do_v3.wav', \"rb\") as do:\n",
    "    nchannels = do.getnchannels()\n",
    "    sample_wid = do.getsampwidth()\n",
    "    framerate = do.getframerate()\n",
    "    nframes = do.getnframes()\n",
    "\n",
    "    # Define the start and end positions (in milliseconds)\n",
    "    start_time_ms = 0  # Start at 2.5 seconds (2500 ms)\n",
    "    end_time_ms = 1100    # End at 5.2 seconds (5200 ms)\n",
    "\n",
    "    # Convert time in milliseconds to frame positions\n",
    "    start_frame = int((start_time_ms / 1000) * framerate)\n",
    "    end_frame = int((end_time_ms / 1000) * framerate)\n",
    "\n",
    "    # Set the position to the start frame\n",
    "    do.setpos(start_frame)\n",
    "\n",
    "    # Read frames from start to end\n",
    "    frames = do.readframes(end_frame - start_frame)\n",
    "\n",
    "# Save the extracted frames to a new WAV file\n",
    "with wave.open('do_v3_cut.wav', \"wb\") as output:\n",
    "    output.setnchannels(nchannels)\n",
    "    output.setsampwidth(sample_wid)\n",
    "    output.setframerate(framerate)\n",
    "    output.writeframes(frames)"
   ]
  }
 ],
 "metadata": {
  "kernelspec": {
   "display_name": "Python 3",
   "language": "python",
   "name": "python3"
  },
  "language_info": {
   "codemirror_mode": {
    "name": "ipython",
    "version": 3
   },
   "file_extension": ".py",
   "mimetype": "text/x-python",
   "name": "python",
   "nbconvert_exporter": "python",
   "pygments_lexer": "ipython3",
   "version": "3.13.2"
  }
 },
 "nbformat": 4,
 "nbformat_minor": 5
}
