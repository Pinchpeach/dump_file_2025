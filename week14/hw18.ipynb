{
 "cells": [
  {
   "cell_type": "markdown",
   "id": "10963e2b",
   "metadata": {},
   "source": [
    "![alt text](<화면 캡처 2025-06-02 201331.png>)"
   ]
  },
  {
   "cell_type": "code",
   "execution_count": 1,
   "id": "ed67eddc",
   "metadata": {},
   "outputs": [],
   "source": [
    "import numpy as np\n",
    "import matplotlib.pyplot as plt\n",
    "import pandas as pd"
   ]
  },
  {
   "cell_type": "code",
   "execution_count": 2,
   "id": "4305d511",
   "metadata": {},
   "outputs": [
    {
     "name": "stdout",
     "output_type": "stream",
     "text": [
      "(14, 3)\n",
      "               x          y      err_y\n",
      "count  14.000000  14.000000  14.000000\n",
      "mean    6.864286  13.947857   2.005000\n",
      "std     3.563621   7.761888   0.813783\n",
      "min     2.000000   4.280000   0.990000\n",
      "25%     3.875000   6.077500   1.305000\n",
      "50%     6.750000  13.040000   2.000000\n",
      "75%     9.275000  20.235000   2.702500\n",
      "max    12.800000  25.890000   3.220000\n"
     ]
    }
   ],
   "source": [
    "data = pd.read_csv('xy.dat', sep=r'\\s+', names=['x','y', 'err_y'])\n",
    "print(data.shape)\n",
    "print(data.describe())"
   ]
  },
  {
   "cell_type": "code",
   "execution_count": null,
   "id": "91c227f0",
   "metadata": {},
   "outputs": [],
   "source": [
    "def CS_2d(vars, data):\n",
    "    a = vars[0]; b = vars[1]\n",
    "    res = np.sum(((data['y'] - a - b * data['x'])/data['err_y'])**2)\n",
    "    return res\n",
    "\n",
    "def downhill(pos, data, dim=2):\n",
    "    N = dim + 1\n",
    "    CS_res = np.zeros(N)\n",
    "    for _ in range(N):\n",
    "        CS_res[_] = CS_2d(pos[_], data)\n",
    "    \n",
    "    \n",
    "    \n",
    "    return pos"
   ]
  },
  {
   "cell_type": "code",
   "execution_count": null,
   "id": "eec773f6",
   "metadata": {},
   "outputs": [],
   "source": []
  }
 ],
 "metadata": {
  "kernelspec": {
   "display_name": "Python 3",
   "language": "python",
   "name": "python3"
  },
  "language_info": {
   "codemirror_mode": {
    "name": "ipython",
    "version": 3
   },
   "file_extension": ".py",
   "mimetype": "text/x-python",
   "name": "python",
   "nbconvert_exporter": "python",
   "pygments_lexer": "ipython3",
   "version": "3.13.2"
  }
 },
 "nbformat": 4,
 "nbformat_minor": 5
}
